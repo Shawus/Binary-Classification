{
  "cells": [
    {
      "cell_type": "markdown",
      "metadata": {
        "id": "hLcWRu-jp7gM"
      },
      "source": [
        "# Binary Classification "
      ]
    },
    {
      "cell_type": "markdown",
      "metadata": {
        "id": "xnqV2-Wd1AVu"
      },
      "source": [
        "The process aims to work through the core concepts in implementation of a binary classifier. We'll start from implementing a logistic regression from scratch by our own (Part 1) and then implementing it using PyTorch APIs (Part 2).\n",
        "Finally, we will build a multi-layer perceptron (MLP) (Part 3) to perform binary classification."
      ]
    },
    {
      "cell_type": "markdown",
      "metadata": {
        "id": "B_MoQiztpxcK"
      },
      "source": [
        "## Logistic Regression\n",
        "\n",
        "Logistic regression predicts the probability that an event could occur and typically is used to perform binary classification.\n",
        "\n",
        "In the first two parts, we will cover:\n",
        "* PyTorch: Tensor operations\n",
        "* Machine Learning: Data preprocessing, logistic Regression, gradient descent, \n",
        "\n",
        "Whole process will walk through implementing a logistic regression model that **classifies whether a person is rich or poor** using the UCI adult income dataset in PyTorch.\n",
        "\n",
        "* In part 1, we will **implement a logistic regression from scratch using PyTorch tensors and tensor operations**. In order to gain a better understanding of the theoretical concepts discussed in class.\n",
        "* In part 2, we will **use PyTorch nn.Module to build a logsitic regression** to get familiar with PyTorch APIs."
      ]
    },
    {
      "cell_type": "markdown",
      "metadata": {
        "id": "giUId1Naqacs"
      },
      "source": [
        "##  Versions of used packages\n",
        "\n",
        "We will check PyTorch version to make sure everything work properly.\n",
        "\n",
        "I use `python 3.9.5`, `torch==1.8.2` and `torchvision==0.9.2`"
      ]
    },
    {
      "cell_type": "code",
      "execution_count": null,
      "metadata": {
        "id": "Vuw-gNvjqcYe",
        "colab": {
          "base_uri": "https://localhost:8080/"
        },
        "outputId": "cbcaebf4-ae69-4245-fc2e-2671753b9856"
      },
      "outputs": [
        {
          "output_type": "stream",
          "name": "stdout",
          "text": [
            "Python 3.7.14\n",
            "torch 1.12.1+cu113\n",
            "torchvision 0.13.1+cu113\n"
          ]
        }
      ],
      "source": [
        "!python --version\n",
        "import torch\n",
        "import torchvision\n",
        "print('torch', torch.__version__)\n",
        "print('torchvision', torchvision.__version__)"
      ]
    },
    {
      "cell_type": "markdown",
      "metadata": {
        "id": "OhdbdJOsrbxL"
      },
      "source": [
        "## Preparing Data"
      ]
    },
    {
      "cell_type": "markdown",
      "metadata": {
        "id": "gVbtJxl6rc3t"
      },
      "source": [
        "### Loading Data"
      ]
    },
    {
      "cell_type": "markdown",
      "metadata": {
        "id": "nPoSgD83teTQ"
      },
      "source": [
        "We use [adult income](https://www.kaggle.com/wenruliu/adult-income-dataset) dataset from UCI machine learning repository.  \n",
        "\n",
        "**Abstract**  \n",
        "\n",
        "Given an individual’s education level, age, gender, occupation, and etc, we want to predict his or her income level.   \n",
        "\n",
        "**Metadata**  \n",
        "Number of attributes: 14  \n",
        "- income: >50K, <=50K\n",
        "- age: continuous.\n",
        "- workclass: Private, Self-emp-not-inc, Self-emp-inc, Federal-gov, Local-gov, State-gov, Without-pay, Never-worked.\n",
        "- fnlwgt: continuous.\n",
        "- education: Bachelors, Some-college, 11th, HS-grad, Prof-school, Assoc-acdm, Assoc-voc, 9th, 7th-8th, 12th, Masters, 1st-4th, 10th, Doctorate, 5th-6th, Preschool.\n",
        "- education-num: continuous.\n",
        "- marital-status: Married-civ-spouse, Divorced, Never-married, Separated, Widowed, Married-spouse-absent, Married-AF-spouse.\n",
        "- occupation: Tech-support, Craft-repair, Other-service, Sales, Exec-managerial, Prof-specialty, Handlers-cleaners, Machine-op-inspct, Adm-clerical, Farming-fishing, Transport-moving, Priv-house-serv, Protective-serv, Armed-Forces.\n",
        "- relationship: Wife, Own-child, Husband, Not-in-family, Other-relative, Unmarried.\n",
        "- race: White, Asian-Pac-Islander, Amer-Indian-Eskimo, Other, Black.\n",
        "- sex: Female, Male.\n",
        "- capital-gain: continuous.\n",
        "- capital-loss: continuous.\n",
        "- hours-per-week: continuous.\n",
        "- native-country: United-States, Cambodia, England, Puerto-Rico, Canada, Germany, Outlying-US(Guam-USVI-etc), India, Japan, Greece, South, China, Cuba, Iran, Honduras, Philippines, Italy, Poland, Jamaica, Vietnam, Mexico, Portugal, Ireland, France, Dominican-Republic, Laos, Ecuador, Taiwan, Haiti, Columbia, Hungary, Guatemala, Nicaragua, Scotland, Thailand, Yugoslavia, El-Salvador, Trinadad&Tobago, Peru, Hong, Holand-Netherlands."
      ]
    },
    {
      "cell_type": "code",
      "execution_count": null,
      "metadata": {
        "colab": {
          "base_uri": "https://localhost:8080/"
        },
        "id": "FhKEp8b1r3V-",
        "outputId": "f929c639-7ff8-4531-ccec-4448c95d5e41"
      },
      "outputs": [
        {
          "output_type": "stream",
          "name": "stdout",
          "text": [
            "Archive:  assign2_data.zip\n",
            "   creating: data/\n",
            "  inflating: __MACOSX/._data         \n",
            "  inflating: data/X_train.csv        \n",
            "  inflating: __MACOSX/data/._X_train.csv  \n",
            "  inflating: data/train.csv          \n",
            "  inflating: __MACOSX/data/._train.csv  \n",
            "  inflating: data/Y_train.csv        \n",
            "  inflating: __MACOSX/data/._Y_train.csv  \n",
            "  inflating: data/Y_test.csv         \n",
            "  inflating: __MACOSX/data/._Y_test.csv  \n",
            "  inflating: data/X_test.csv         \n",
            "  inflating: __MACOSX/data/._X_test.csv  \n"
          ]
        }
      ],
      "source": [
        "# Download it from cu and upload to colab\n",
        "\n",
        "# or from the Dropbox\n",
        "!wget -q -N https://www.dropbox.com/s/1jqeipgof7tukln/assign2_data.zip\n",
        "!unzip -n assign2_data.zip"
      ]
    },
    {
      "cell_type": "markdown",
      "metadata": {
        "id": "cqO8DiB6VRQZ"
      },
      "source": [
        "There are 4 csv files.\n",
        "\n",
        "\n",
        "* X_train: training data \n",
        "* X_test: training data labels\n",
        "* Y_train: test data\n",
        "* Y_test: test data labels.\n",
        "\n",
        "Each row in X has 106 fields.\n",
        "Each row Y represents the true label of 0 (poor) and 1 (rich).  "
      ]
    },
    {
      "cell_type": "code",
      "execution_count": null,
      "metadata": {
        "id": "TRq8vX4kn24u",
        "colab": {
          "base_uri": "https://localhost:8080/",
          "height": 297
        },
        "outputId": "5d593981-ef17-4010-ea42-a2e504602d12"
      },
      "outputs": [
        {
          "output_type": "execute_result",
          "data": {
            "text/plain": [
              "   age  fnlwgt  sex  capital_gain  capital_loss  hours_per_week   Federal-gov  \\\n",
              "0   39   77516    1          2174             0              40             0   \n",
              "1   50   83311    1             0             0              13             0   \n",
              "2   38  215646    1             0             0              40             0   \n",
              "3   53  234721    1             0             0              40             0   \n",
              "4   28  338409    0             0             0              40             0   \n",
              "\n",
              "    Local-gov   Never-worked   Private  ...   Puerto-Rico   Scotland   South  \\\n",
              "0           0              0         0  ...             0          0       0   \n",
              "1           0              0         0  ...             0          0       0   \n",
              "2           0              0         1  ...             0          0       0   \n",
              "3           0              0         1  ...             0          0       0   \n",
              "4           0              0         1  ...             0          0       0   \n",
              "\n",
              "    Taiwan   Thailand   Trinadad&Tobago   United-States   Vietnam  \\\n",
              "0        0          0                 0               1         0   \n",
              "1        0          0                 0               1         0   \n",
              "2        0          0                 0               1         0   \n",
              "3        0          0                 0               1         0   \n",
              "4        0          0                 0               0         0   \n",
              "\n",
              "    Yugoslavia  ?_native_country  \n",
              "0            0                 0  \n",
              "1            0                 0  \n",
              "2            0                 0  \n",
              "3            0                 0  \n",
              "4            0                 0  \n",
              "\n",
              "[5 rows x 106 columns]"
            ],
            "text/html": [
              "\n",
              "  <div id=\"df-f35b2022-d41c-4675-ac59-d29532f0ec13\">\n",
              "    <div class=\"colab-df-container\">\n",
              "      <div>\n",
              "<style scoped>\n",
              "    .dataframe tbody tr th:only-of-type {\n",
              "        vertical-align: middle;\n",
              "    }\n",
              "\n",
              "    .dataframe tbody tr th {\n",
              "        vertical-align: top;\n",
              "    }\n",
              "\n",
              "    .dataframe thead th {\n",
              "        text-align: right;\n",
              "    }\n",
              "</style>\n",
              "<table border=\"1\" class=\"dataframe\">\n",
              "  <thead>\n",
              "    <tr style=\"text-align: right;\">\n",
              "      <th></th>\n",
              "      <th>age</th>\n",
              "      <th>fnlwgt</th>\n",
              "      <th>sex</th>\n",
              "      <th>capital_gain</th>\n",
              "      <th>capital_loss</th>\n",
              "      <th>hours_per_week</th>\n",
              "      <th>Federal-gov</th>\n",
              "      <th>Local-gov</th>\n",
              "      <th>Never-worked</th>\n",
              "      <th>Private</th>\n",
              "      <th>...</th>\n",
              "      <th>Puerto-Rico</th>\n",
              "      <th>Scotland</th>\n",
              "      <th>South</th>\n",
              "      <th>Taiwan</th>\n",
              "      <th>Thailand</th>\n",
              "      <th>Trinadad&amp;Tobago</th>\n",
              "      <th>United-States</th>\n",
              "      <th>Vietnam</th>\n",
              "      <th>Yugoslavia</th>\n",
              "      <th>?_native_country</th>\n",
              "    </tr>\n",
              "  </thead>\n",
              "  <tbody>\n",
              "    <tr>\n",
              "      <th>0</th>\n",
              "      <td>39</td>\n",
              "      <td>77516</td>\n",
              "      <td>1</td>\n",
              "      <td>2174</td>\n",
              "      <td>0</td>\n",
              "      <td>40</td>\n",
              "      <td>0</td>\n",
              "      <td>0</td>\n",
              "      <td>0</td>\n",
              "      <td>0</td>\n",
              "      <td>...</td>\n",
              "      <td>0</td>\n",
              "      <td>0</td>\n",
              "      <td>0</td>\n",
              "      <td>0</td>\n",
              "      <td>0</td>\n",
              "      <td>0</td>\n",
              "      <td>1</td>\n",
              "      <td>0</td>\n",
              "      <td>0</td>\n",
              "      <td>0</td>\n",
              "    </tr>\n",
              "    <tr>\n",
              "      <th>1</th>\n",
              "      <td>50</td>\n",
              "      <td>83311</td>\n",
              "      <td>1</td>\n",
              "      <td>0</td>\n",
              "      <td>0</td>\n",
              "      <td>13</td>\n",
              "      <td>0</td>\n",
              "      <td>0</td>\n",
              "      <td>0</td>\n",
              "      <td>0</td>\n",
              "      <td>...</td>\n",
              "      <td>0</td>\n",
              "      <td>0</td>\n",
              "      <td>0</td>\n",
              "      <td>0</td>\n",
              "      <td>0</td>\n",
              "      <td>0</td>\n",
              "      <td>1</td>\n",
              "      <td>0</td>\n",
              "      <td>0</td>\n",
              "      <td>0</td>\n",
              "    </tr>\n",
              "    <tr>\n",
              "      <th>2</th>\n",
              "      <td>38</td>\n",
              "      <td>215646</td>\n",
              "      <td>1</td>\n",
              "      <td>0</td>\n",
              "      <td>0</td>\n",
              "      <td>40</td>\n",
              "      <td>0</td>\n",
              "      <td>0</td>\n",
              "      <td>0</td>\n",
              "      <td>1</td>\n",
              "      <td>...</td>\n",
              "      <td>0</td>\n",
              "      <td>0</td>\n",
              "      <td>0</td>\n",
              "      <td>0</td>\n",
              "      <td>0</td>\n",
              "      <td>0</td>\n",
              "      <td>1</td>\n",
              "      <td>0</td>\n",
              "      <td>0</td>\n",
              "      <td>0</td>\n",
              "    </tr>\n",
              "    <tr>\n",
              "      <th>3</th>\n",
              "      <td>53</td>\n",
              "      <td>234721</td>\n",
              "      <td>1</td>\n",
              "      <td>0</td>\n",
              "      <td>0</td>\n",
              "      <td>40</td>\n",
              "      <td>0</td>\n",
              "      <td>0</td>\n",
              "      <td>0</td>\n",
              "      <td>1</td>\n",
              "      <td>...</td>\n",
              "      <td>0</td>\n",
              "      <td>0</td>\n",
              "      <td>0</td>\n",
              "      <td>0</td>\n",
              "      <td>0</td>\n",
              "      <td>0</td>\n",
              "      <td>1</td>\n",
              "      <td>0</td>\n",
              "      <td>0</td>\n",
              "      <td>0</td>\n",
              "    </tr>\n",
              "    <tr>\n",
              "      <th>4</th>\n",
              "      <td>28</td>\n",
              "      <td>338409</td>\n",
              "      <td>0</td>\n",
              "      <td>0</td>\n",
              "      <td>0</td>\n",
              "      <td>40</td>\n",
              "      <td>0</td>\n",
              "      <td>0</td>\n",
              "      <td>0</td>\n",
              "      <td>1</td>\n",
              "      <td>...</td>\n",
              "      <td>0</td>\n",
              "      <td>0</td>\n",
              "      <td>0</td>\n",
              "      <td>0</td>\n",
              "      <td>0</td>\n",
              "      <td>0</td>\n",
              "      <td>0</td>\n",
              "      <td>0</td>\n",
              "      <td>0</td>\n",
              "      <td>0</td>\n",
              "    </tr>\n",
              "  </tbody>\n",
              "</table>\n",
              "<p>5 rows × 106 columns</p>\n",
              "</div>\n",
              "      <button class=\"colab-df-convert\" onclick=\"convertToInteractive('df-f35b2022-d41c-4675-ac59-d29532f0ec13')\"\n",
              "              title=\"Convert this dataframe to an interactive table.\"\n",
              "              style=\"display:none;\">\n",
              "        \n",
              "  <svg xmlns=\"http://www.w3.org/2000/svg\" height=\"24px\"viewBox=\"0 0 24 24\"\n",
              "       width=\"24px\">\n",
              "    <path d=\"M0 0h24v24H0V0z\" fill=\"none\"/>\n",
              "    <path d=\"M18.56 5.44l.94 2.06.94-2.06 2.06-.94-2.06-.94-.94-2.06-.94 2.06-2.06.94zm-11 1L8.5 8.5l.94-2.06 2.06-.94-2.06-.94L8.5 2.5l-.94 2.06-2.06.94zm10 10l.94 2.06.94-2.06 2.06-.94-2.06-.94-.94-2.06-.94 2.06-2.06.94z\"/><path d=\"M17.41 7.96l-1.37-1.37c-.4-.4-.92-.59-1.43-.59-.52 0-1.04.2-1.43.59L10.3 9.45l-7.72 7.72c-.78.78-.78 2.05 0 2.83L4 21.41c.39.39.9.59 1.41.59.51 0 1.02-.2 1.41-.59l7.78-7.78 2.81-2.81c.8-.78.8-2.07 0-2.86zM5.41 20L4 18.59l7.72-7.72 1.47 1.35L5.41 20z\"/>\n",
              "  </svg>\n",
              "      </button>\n",
              "      \n",
              "  <style>\n",
              "    .colab-df-container {\n",
              "      display:flex;\n",
              "      flex-wrap:wrap;\n",
              "      gap: 12px;\n",
              "    }\n",
              "\n",
              "    .colab-df-convert {\n",
              "      background-color: #E8F0FE;\n",
              "      border: none;\n",
              "      border-radius: 50%;\n",
              "      cursor: pointer;\n",
              "      display: none;\n",
              "      fill: #1967D2;\n",
              "      height: 32px;\n",
              "      padding: 0 0 0 0;\n",
              "      width: 32px;\n",
              "    }\n",
              "\n",
              "    .colab-df-convert:hover {\n",
              "      background-color: #E2EBFA;\n",
              "      box-shadow: 0px 1px 2px rgba(60, 64, 67, 0.3), 0px 1px 3px 1px rgba(60, 64, 67, 0.15);\n",
              "      fill: #174EA6;\n",
              "    }\n",
              "\n",
              "    [theme=dark] .colab-df-convert {\n",
              "      background-color: #3B4455;\n",
              "      fill: #D2E3FC;\n",
              "    }\n",
              "\n",
              "    [theme=dark] .colab-df-convert:hover {\n",
              "      background-color: #434B5C;\n",
              "      box-shadow: 0px 1px 3px 1px rgba(0, 0, 0, 0.15);\n",
              "      filter: drop-shadow(0px 1px 2px rgba(0, 0, 0, 0.3));\n",
              "      fill: #FFFFFF;\n",
              "    }\n",
              "  </style>\n",
              "\n",
              "      <script>\n",
              "        const buttonEl =\n",
              "          document.querySelector('#df-f35b2022-d41c-4675-ac59-d29532f0ec13 button.colab-df-convert');\n",
              "        buttonEl.style.display =\n",
              "          google.colab.kernel.accessAllowed ? 'block' : 'none';\n",
              "\n",
              "        async function convertToInteractive(key) {\n",
              "          const element = document.querySelector('#df-f35b2022-d41c-4675-ac59-d29532f0ec13');\n",
              "          const dataTable =\n",
              "            await google.colab.kernel.invokeFunction('convertToInteractive',\n",
              "                                                     [key], {});\n",
              "          if (!dataTable) return;\n",
              "\n",
              "          const docLinkHtml = 'Like what you see? Visit the ' +\n",
              "            '<a target=\"_blank\" href=https://colab.research.google.com/notebooks/data_table.ipynb>data table notebook</a>'\n",
              "            + ' to learn more about interactive tables.';\n",
              "          element.innerHTML = '';\n",
              "          dataTable['output_type'] = 'display_data';\n",
              "          await google.colab.output.renderOutput(dataTable, element);\n",
              "          const docLink = document.createElement('div');\n",
              "          docLink.innerHTML = docLinkHtml;\n",
              "          element.appendChild(docLink);\n",
              "        }\n",
              "      </script>\n",
              "    </div>\n",
              "  </div>\n",
              "  "
            ]
          },
          "metadata": {},
          "execution_count": 3
        }
      ],
      "source": [
        "import numpy as np\n",
        "import pandas as pd\n",
        "\n",
        "# Pre-Processed Version\n",
        "X_train_raw = pd.read_csv('data/X_train.csv')\n",
        "Y_train_raw = pd.read_csv('data/Y_train.csv')\n",
        "X_test_raw = pd.read_csv('data/X_test.csv')\n",
        "Y_test_raw = pd.read_csv('data/Y_test.csv')\n",
        "\n",
        "X_train_raw.head()"
      ]
    },
    {
      "cell_type": "markdown",
      "metadata": {
        "id": "7XvstELNg7wO"
      },
      "source": [
        "You may already notice that there are two datasets.   One is \"training set\", and the other is \"test set\".  \n",
        "The training set is like **homework of model**. A model uses the training set to learn.  \n",
        "The testing set is like **quiz of model**. A learned model is tested on the testing set for evaluating how good a model is.\n",
        "\n"
      ]
    },
    {
      "cell_type": "markdown",
      "metadata": {
        "id": "ckRcWuGlZLYV"
      },
      "source": [
        "### Pre-Processing Data"
      ]
    },
    {
      "cell_type": "markdown",
      "metadata": {
        "id": "TGlPZ1Okx1Z0"
      },
      "source": [
        "In a data science process, data cleansing usually cost the most of time.  \n",
        "Dirty data will cause overfitting or make us ignore those important features. Even if you don't have correct cleansing and format, your model can't run anymore."
      ]
    },
    {
      "cell_type": "code",
      "execution_count": null,
      "metadata": {
        "id": "WuuY4McyXrb3",
        "colab": {
          "base_uri": "https://localhost:8080/"
        },
        "outputId": "9ef9fc42-a9be-4aca-bd97-69f5ce6ea65e"
      },
      "outputs": [
        {
          "output_type": "stream",
          "name": "stdout",
          "text": [
            "the first 5 means are: tensor([3.8582e+01, 1.8978e+05, 6.6921e-01, 1.0776e+03, 8.7304e+01])\n",
            "the first 5 sigma are: tensor([1.3640e+01, 1.0555e+05, 4.7051e-01, 7.3853e+03, 4.0296e+02])\n",
            "Shape of X_train: torch.Size([32561, 106])\n",
            "Shape of X_test: torch.Size([16281, 106])\n",
            "Shape of y_train: torch.Size([32561])\n",
            "Shape of y_test: torch.Size([16281])\n"
          ]
        }
      ],
      "source": [
        "import torch\n",
        "\n",
        "################################################################################\n",
        "# TODO: Implement Standard Deviation Normalization.                            #\n",
        "# train_data has shape(n_train, feature_dim)                                   #\n",
        "# test_data has shape(n_test, feature_dim)                                     #\n",
        "# Note: compute mean and std using training data, and apply it to              #\n",
        "# test.                                                                        #\n",
        "################################################################################\n",
        "\n",
        "def compute_mu_std(data):\n",
        "    '''\n",
        "    Arguments:\n",
        "    data -- torch.Tesor, contain data with shape(n, feature_dim)\n",
        "\n",
        "    Return:\n",
        "    mu - torch.Tensor, mean value of columns of data with shape(feature_dim)\n",
        "    sigma - torch.Tensor, std value of columns of data with shape(feature_dim)\n",
        "    '''\n",
        "    row_num = data.shape[0]\n",
        "    col_num = data.shape[1]\n",
        "  \n",
        "    mu = torch.sum(data, dim = 0) / row_num # Calculate average value of each column  here with (Size([106])) to be 1-D vector\n",
        "\n",
        "    y_temp = data - mu # each column minus there average value in element-wise way and save the matrix as y_temp\n",
        "\n",
        "    sigma = torch.sqrt((((y_temp ** 2).sum(dim=0)) / (row_num - 1))) # calculate standard deviation for each column\n",
        "    return mu, sigma\n",
        "\n",
        "def standard_normalize(data, mu, std):\n",
        "    '''\n",
        "    Arguments:\n",
        "    data -- torch.Tesor, contain data with shape(n, feature_dim)\n",
        "    mu - torch.Tensor, mean value of columns of data with shape(feature_dim)\n",
        "    sigma - torch.Tensor, std value of columns of data with shape(feature_dim)\n",
        "\n",
        "    Return:\n",
        "    data -- torch.Tensor, normalized data with given mu and sigma\n",
        "    '''\n",
        "    data = (data - mu) / std # Implementation of standard normalization\n",
        "    return data\n",
        "\n",
        "X_train = torch.tensor(X_train_raw.values, dtype=torch.float)\n",
        "X_test = torch.tensor(X_test_raw.values, dtype=torch.float)\n",
        "\n",
        "mu, sigma = compute_mu_std(X_train)\n",
        "\n",
        "# output the first 5 values of mu and sigma\n",
        "print('the first 5 means are:', mu[:5])\n",
        "print('the first 5 sigma are:', sigma[:5])\n",
        "\n",
        "f_dim = X_train.shape[1]\n",
        "assert mu.shape == torch.Size([f_dim]), 'Shape of mu is incorrect.'\n",
        "assert sigma.shape == torch.Size([f_dim]), 'Shape of sigma is incorrect.'\n",
        "\n",
        "X_train = standard_normalize(X_train, mu, sigma)\n",
        "X_test = standard_normalize(X_test, mu, sigma)\n",
        "\n",
        "# make shape(n, 1) > shape(n), like [[1, 2, 3]] > [1, 2, 3]\n",
        "Y_train = torch.tensor(Y_train_raw.values).squeeze()\n",
        "Y_test = torch.tensor(Y_test_raw.values).squeeze()\n",
        "\n",
        "print('Shape of X_train:', X_train.shape) \n",
        "print('Shape of X_test:', X_test.shape)  \n",
        "print('Shape of y_train:', Y_train.shape)\n",
        "print('Shape of y_test:', Y_test.shape)\n",
        "\n",
        "assert X_train.dim() == 2\n",
        "assert Y_train.dim() == 1\n",
        "assert X_train.shape == (32561, 106)\n",
        "assert X_test.shape == (16281, 106)"
      ]
    },
    {
      "cell_type": "markdown",
      "metadata": {
        "id": "U5jtBkbJyBym"
      },
      "source": [
        "Because the data used to train a deep model may be large, you could not load the model and the whole dataset into memory (GPU or RAM) at the same time.  \n",
        "So, we split the data into mini-batches."
      ]
    },
    {
      "cell_type": "code",
      "execution_count": null,
      "metadata": {
        "id": "zX1pqlGnn25M",
        "colab": {
          "base_uri": "https://localhost:8080/"
        },
        "outputId": "866f1412-6ca9-441b-959b-d76aefb5d90c"
      },
      "outputs": [
        {
          "output_type": "stream",
          "name": "stdout",
          "text": [
            "(254, 128, 106)\n",
            "(254, 128)\n",
            "(127, 128, 106)\n",
            "(127, 128)\n"
          ]
        }
      ],
      "source": [
        "def make_batch(data, batch_size=128, drop_last=True):\n",
        "    '''\n",
        "    Split dataset into batches.\n",
        "\n",
        "    Arguments:\n",
        "    data -- torch.Tensor, data with shape(n, ...)\n",
        "    batch_size -- int, how many data in your batch\n",
        "    drop_last -- boolean, drop last datas if your remaining data is < batch_size\n",
        "\n",
        "    Return:\n",
        "    out -- torch.Tensor(dtype=torch.float) with shape(n_batch, batch_size, ...)\n",
        "    '''\n",
        "    if drop_last:\n",
        "        n = data.shape[0] // batch_size\n",
        "    else:\n",
        "        n = ((data.shape[0] - 1) // batch_size) + 1\n",
        "    out = np.empty(torch.Size((n, batch_size)) + data.shape[1:], dtype=np.float32) # the dimension change from origin dataset to batch version dataset is like (32561,106) -> (254,128,106)\n",
        "    print(out.shape)\n",
        "    for b in range(len(out)): # to run through every batch (assume there's 254 batch -> 0...253)\n",
        "        out[b] = data[b * batch_size : (b + 1) * batch_size] # sequentially assign the value from dataset to mini-batch dataset by every indicated batch_size rows\n",
        "    return torch.tensor(out)\n",
        "\n",
        "X_train_batch = make_batch(X_train)\n",
        "Y_train_batch = make_batch(Y_train)\n",
        "X_test_batch = make_batch(X_test)\n",
        "Y_test_batch = make_batch(Y_test)"
      ]
    },
    {
      "cell_type": "markdown",
      "metadata": {
        "id": "U4atwzT3aPi3"
      },
      "source": [
        "We have prepared the data.  \n",
        "Let's develop a logistic regression model."
      ]
    },
    {
      "cell_type": "markdown",
      "metadata": {
        "id": "87KYcWknS95z"
      },
      "source": [
        "# Part 1: Implement Logistic Regression from Scratch"
      ]
    },
    {
      "cell_type": "markdown",
      "metadata": {
        "id": "Y_moLy20cEn_"
      },
      "source": [
        "## Utility function"
      ]
    },
    {
      "cell_type": "markdown",
      "metadata": {
        "id": "OH_4NKB9dsZ3"
      },
      "source": [
        "### Activation Function"
      ]
    },
    {
      "cell_type": "markdown",
      "metadata": {
        "id": "ifQD-YnvcY3k"
      },
      "source": [
        "Logistic Regression uses a logistic function (or called a sigmoid function) to turn a real value into a probability (a value between zero and one). Below depicts the sigmoid function.\n",
        "\n",
        "![](https://upload.wikimedia.org/wikipedia/commons/thumb/8/88/Logistic-curve.svg/640px-Logistic-curve.svg.png)\n",
        "\n",
        "*Source: wikipedia*"
      ]
    },
    {
      "cell_type": "code",
      "execution_count": null,
      "metadata": {
        "id": "CuzoweBRn25o",
        "colab": {
          "base_uri": "https://localhost:8080/"
        },
        "outputId": "4701e933-f69b-4e21-8cd9-cd5477067dfc"
      },
      "outputs": [
        {
          "output_type": "stream",
          "name": "stdout",
          "text": [
            "sigmoid(0)  = tensor(0.5000)\n",
            "sigmoid(2)  = tensor(0.8808)\n",
            "sigmoid(-1) = tensor(0.2689)\n"
          ]
        }
      ],
      "source": [
        "def sigmoid(z): \n",
        "\n",
        "    import math\n",
        "\n",
        "    '''\n",
        "    Compute the sigmoid of z\n",
        "\n",
        "    Arguments:\n",
        "    z -- A scalar or torch.Tensor of any size.\n",
        "\n",
        "    Return:\n",
        "    s -- torch.Tensor, sigmoid(z)\n",
        "    '''\n",
        "    if not isinstance(z, torch.Tensor): # if input z is not in tensor datatype, then convert to tensor first\n",
        "        z = torch.tensor(z, dtype=torch.float)\n",
        "    \n",
        "    # Implement sigmoid (or called logistic) function                                                                   \n",
        "    out = (1 / (1 + torch.exp(-z)))\n",
        "\n",
        "    # prevent out is Inf or -Inf\n",
        "    out = torch.clamp(out, 1e-6, 1-(1e-6))\n",
        "    return out\n",
        "\n",
        "s_t1 = sigmoid(0)\n",
        "s_t2 = sigmoid(2)\n",
        "s_t3 = sigmoid(-1)\n",
        "print('sigmoid(0)  =', s_t1)\n",
        "print('sigmoid(2)  =', s_t2)\n",
        "print('sigmoid(-1) =', s_t3)\n",
        "msg = 'Your sigmoid: {} isn\\'t correct'\n",
        "assert (s_t1 - 0.5) < 0.001, msg.format(sigmoid(0))\n",
        "assert (s_t2 - 0.8808) < 0.001, msg.format(sigmoid(2))\n",
        "assert (s_t3 - 0.2689) < 0.001, msg.format(sigmoid(-1))"
      ]
    },
    {
      "cell_type": "markdown",
      "metadata": {
        "id": "LVnUmO0DdwjF"
      },
      "source": [
        "### Loss Function"
      ]
    },
    {
      "cell_type": "markdown",
      "metadata": {
        "id": "inIo1GtRdylu"
      },
      "source": [
        "Many machine learning applications use the cross-entropy loss. This loss can be directly derived from information theoretic considerations, which measures the differences between two probability distributions.\n",
        "We will use the binary cross entropy loss here for binary classification."
      ]
    },
    {
      "cell_type": "code",
      "execution_count": null,
      "metadata": {
        "id": "sboq4fXhn250",
        "colab": {
          "base_uri": "https://localhost:8080/"
        },
        "outputId": "d44bfce5-55c6-4640-918c-e9ab75113244"
      },
      "outputs": [
        {
          "output_type": "stream",
          "name": "stdout",
          "text": [
            "bce(1, 0.5) tensor(0.6931)\n",
            "bce(1, 0.8) tensor(0.2231)\n",
            "bce(1, 0.9) tensor(0.1054)\n"
          ]
        }
      ],
      "source": [
        "def binary_cross_entropy(y_true, y_pred):\n",
        "\n",
        "    import numpy as np\n",
        "\n",
        "    '''\n",
        "    Compute the binary cross entropy of inputs.\n",
        "\n",
        "    Arguments:\n",
        "    y_true -- torch.Tensor, True data with shape(n_size).\n",
        "    y_pred -- torch.Tensor, Predicted data with shape(n_size)\n",
        "\n",
        "    Return:\n",
        "    s -- torch.Tensor, binary_cross_entropy(z)\n",
        "    '''\n",
        "\n",
        "    # TODO: Implement binary cross entropy                                                                                          \n",
        "    loss = torch.sum(-(y_true * np.log(y_pred) + (1 - y_true) * np.log(1 - y_pred))) / y_pred.shape[0]\n",
        "    \n",
        "    return loss\n",
        "\n",
        "b_t1 = binary_cross_entropy(torch.tensor([1]), torch.tensor([0.5]))\n",
        "b_t2 = binary_cross_entropy(torch.tensor([1]), torch.tensor([0.8]))\n",
        "b_t3 = binary_cross_entropy(torch.tensor([1]), torch.tensor([0.9]))\n",
        "print('bce(1, 0.5)', b_t1)\n",
        "print('bce(1, 0.8)', b_t2)\n",
        "print('bce(1, 0.9)', b_t3)\n",
        "msg = 'Your bce: {} isn\\'t correct'\n",
        "assert (b_t1 - 0.6931) < 0.001, msg.format(b_t1)\n",
        "assert (b_t2 - 0.2231) < 0.001, msg.format(b_t1)\n",
        "assert (b_t3 - 0.1054) < 0.001, msg.format(b_t1)"
      ]
    },
    {
      "cell_type": "markdown",
      "metadata": {
        "id": "0OswC-h-e1-0"
      },
      "source": [
        "## Logistic Regression Model"
      ]
    },
    {
      "cell_type": "markdown",
      "metadata": {
        "id": "uu-Ls8DefPGK"
      },
      "source": [
        "Let's implement the training algorithm!  \n",
        "\n",
        "**Training algorithm with mini-batch SGD**\n",
        " \n",
        "```python\n",
        "# pseudo code about the training process\n",
        "num_epochs = ... # specify the number of epochs to train initialize parameters w, b\n",
        "for epoch in range(num_epochs):\n",
        "    shuffle training data\n",
        "    for each batch:\n",
        "        forward propagation to get the predictions/outputs \n",
        "        compute loss\n",
        "        backward propagation to get the gradients\n",
        "        update parameters using their gradients\n",
        "```"
      ]
    },
    {
      "cell_type": "markdown",
      "metadata": {
        "id": "cglTIH1NrdIO"
      },
      "source": [
        "LogisticRegression model defined below is composed of init, forward, backward, optimizer..."
      ]
    },
    {
      "cell_type": "code",
      "execution_count": null,
      "metadata": {
        "id": "4LOzsSk7n26G"
      },
      "outputs": [],
      "source": [
        "class LogisticRegression:\n",
        "    def __init__(self, lr, feature_dim):\n",
        "        '''\n",
        "        Initialize the learning rate\n",
        "        Initialize the weights and bias to zeros with correct shapes.\n",
        "        Note that w and b should be torch.tensor(...)\n",
        "        The shape of w should be (feature_dim)\n",
        "        The shape of b should be (1)\n",
        "\n",
        "        Arguments:\n",
        "        lr -- float, learning rate (0 < lr <= 1) to control the step of updates.\n",
        "        feature_dim -- int, the number of features.\n",
        "        '''\n",
        "        \n",
        "        self.w = torch.zeros([feature_dim]) # initialize weight as 1-D vector in size(feature_dim)\n",
        "        self.b = torch.tensor(1, dtype = torch.float)\n",
        "        self.lr = lr\n",
        "        \n",
        "        assert self.w.shape == torch.Size([feature_dim]), 'shape of w is incorrect'\n",
        "        assert self.b.dtype == torch.float, 'dtype of b should be float'\n",
        "\n",
        "        # initialize dw, db to zeros\n",
        "        self.grads = {'dw': torch.zeros(feature_dim, dtype=torch.float), \n",
        "                      'db': torch.tensor(0, dtype=torch.float)}\n",
        "\n",
        "    def forward(self, x):\n",
        "        '''\n",
        "        Compute the predicted probability using the w and b for an given input x.\n",
        "        Store the prediction in self.out, which will be needed in backward pass.\n",
        "\n",
        "        Arguments: \n",
        "        x -- torch.Tensor, input data with shape(n, feature_dim).\n",
        "\n",
        "        Return:\n",
        "        out -- sigmoid(x * w + b)\n",
        "        '''\n",
        "      \n",
        "        # the value in each column multiply the corresponding weight, afterthat sum the value and plus the bias by row to get the output. \n",
        "        out = torch.sum((x * self.w), dim = 1) + self.b\n",
        "        out = sigmoid(out)\n",
        "        \n",
        "        self.out = out\n",
        "        assert (out > 0).all() and (out < 1).all(), 'Output should > 0 and < 1'\n",
        "        assert out.shape == torch.Size([x.shape[0]]), 'Shape of output is incorrect.'\n",
        "        return self.out\n",
        "    \n",
        "    def backward(self, x, y_true):\n",
        "        '''\n",
        "        After the forward pass, calculate gradients of w and b (dw and db).\n",
        "        Store dw and db in self.grads.\n",
        "  \n",
        "        Arguments:\n",
        "        x -- torch.Tensor, input data with shape(n,).\n",
        "        y_true -- torch.Tensor, true data with shape(n,).\n",
        "        '''\n",
        "        y_pred = self.out\n",
        "        \n",
        "        # Gradient descent implementation                      \n",
        "        row_num = y_pred.shape[0] # number of dataset\n",
        "        residual = y_pred - y_true\n",
        "        dw = torch.sum((x.t() * residual), dim = 1) / row_num # residual as a 1-D vector, and the shape of dw will be the same with feature_dim after the calculation\n",
        "      \n",
        "        assert dw.shape == self.w.shape, 'Shape of dw is incorrect.'\n",
        "        assert db.shape == self.b.shape, 'Shape of db is incorrect.'\n",
        "\n",
        "        self.grads = {'dw': dw, 'db': db}\n",
        "\n",
        "    def optimize(self):\n",
        "        '''\n",
        "        Implement the mini-batch SGD algorithm.\n",
        "        Use gradients and lr to update the weights and bias.\n",
        "        '''\n",
        "        \n",
        "        self.w = self.w - (self.lr * self.grads['dw'])\n",
        "        self.b = self.b - (self.lr * self.grads['db'])\n",
        "\n",
        "    def predict(self, x):\n",
        "        '''\n",
        "        Compute the probability prediction of you model and threshold the \n",
        "        probability output at 0.5 to obtain the label.\n",
        "        Re-use forward method to predict successfully.\n",
        "\n",
        "        Arguments:\n",
        "        x -- torch.Tensor, input data with shape(n, feature_dim).\n",
        "\n",
        "        Return:\n",
        "        out -- sigmoid(x * w + b) > 0.5 with shape(n,)\n",
        "        '''\n",
        "        \n",
        "        out = torch.sum((x * self.w), dim = 1) + self.b\n",
        "        out = sigmoid(out) > 0.5\n",
        "        \n",
        "        assert out.shape == torch.Size([x.shape[0]]), 'Shape of output is incorrect'\n",
        "        return out"
      ]
    },
    {
      "cell_type": "code",
      "execution_count": null,
      "metadata": {
        "id": "1RMn82737BAW"
      },
      "outputs": [],
      "source": [
        "# Hyperparameters                                 \n",
        "\n",
        "lr = 6e-2\n",
        "max_epochs = 50\n",
        "log_interval = 5\n",
        "\n",
        "model = LogisticRegression(lr=lr, feature_dim=X_train.shape[1])\n",
        "\n",
        "train_loss_list = []\n",
        "train_acc_list = []\n",
        "test_loss_list = []\n",
        "test_acc_list = []"
      ]
    },
    {
      "cell_type": "markdown",
      "metadata": {
        "id": "KUzf_a3-aa6F"
      },
      "source": [
        "### Putting everything together"
      ]
    },
    {
      "cell_type": "code",
      "execution_count": null,
      "metadata": {
        "id": "QXzuzR8Xn26N",
        "colab": {
          "base_uri": "https://localhost:8080/"
        },
        "outputId": "d476e2dc-54ed-428c-db9f-911d28e3e018"
      },
      "outputs": [
        {
          "output_type": "stream",
          "name": "stdout",
          "text": [
            "==================== Epoch 5 ====================\n",
            "Train loss: tensor(0.3228) acc: 0.8514173397622923\n",
            "Test loss:  tensor(0.3221) acc: 0.8513604815429028\n",
            "==================== Epoch 10 ====================\n",
            "Train loss: tensor(0.3193) acc: 0.8525843800866066\n",
            "Test loss:  tensor(0.3202) acc: 0.8516061666973773\n",
            "==================== Epoch 15 ====================\n",
            "Train loss: tensor(0.3185) acc: 0.8533521697736556\n",
            "Test loss:  tensor(0.3195) acc: 0.8522818008721823\n",
            "==================== Epoch 20 ====================\n",
            "Train loss: tensor(0.3180) acc: 0.8527379380240164\n",
            "Test loss:  tensor(0.3196) acc: 0.8525889073152755\n",
            "==================== Epoch 25 ====================\n",
            "Train loss: tensor(0.3178) acc: 0.8534443045361014\n",
            "Test loss:  tensor(0.3189) acc: 0.8523432221608009\n",
            "==================== Epoch 30 ====================\n",
            "Train loss: tensor(0.3177) acc: 0.853075765486318\n",
            "Test loss:  tensor(0.3195) acc: 0.8525889073152755\n",
            "==================== Epoch 35 ====================\n",
            "Train loss: tensor(0.3178) acc: 0.8527072264365345\n",
            "Test loss:  tensor(0.3193) acc: 0.8533259627786991\n",
            "==================== Epoch 40 ====================\n",
            "Train loss: tensor(0.3177) acc: 0.8532600350112097\n",
            "Test loss:  tensor(0.3194) acc: 0.8526503286038941\n",
            "==================== Epoch 45 ====================\n",
            "Train loss: tensor(0.3177) acc: 0.853075765486318\n",
            "Test loss:  tensor(0.3194) acc: 0.8520975370063264\n",
            "==================== Epoch 50 ====================\n",
            "Train loss: tensor(0.3176) acc: 0.8540585362857406\n",
            "Test loss:  tensor(0.3195) acc: 0.8516061666973773\n"
          ]
        }
      ],
      "source": [
        "from sklearn.metrics import accuracy_score\n",
        "\n",
        "for epoch in range(1, max_epochs + 1):\n",
        "    idxs = torch.randperm(X_train_batch.shape[0]) # make rand idx\n",
        "    data_loader = ((X_train_batch[i], Y_train_batch[i]) for i in idxs)\n",
        "\n",
        "    loss_list = [] # to save train_loss\n",
        "\n",
        "    # i represent which batch is processed right now / x represent the dataset in batch number i which the shape is (n,feature_dim) / y represent the label vectorin batch number i which the shape is (n,)\n",
        "    for i, (x, y) in enumerate(data_loader):\n",
        "\n",
        "        # 1. call forward() to get the output\n",
        "        # 2. calculate loss using binary_cross_entropy()\n",
        "        # 3. using backward method to calculate dw, db\n",
        "        # 4. apply SGD optimize to update model's weights\n",
        "        y_pred = model.forward(x)\n",
        "        loss = binary_cross_entropy(y, y_pred)\n",
        "        model.backward(x, y)\n",
        "        model.optimize()\n",
        "\n",
        "        loss_list.append(loss)\n",
        "\n",
        "    train_loss_list.append(sum(loss_list) / len(loss_list))\n",
        "    train_acc_list.append(accuracy_score(Y_train, model.predict(X_train.float())))\n",
        "    test_loss_list.append(binary_cross_entropy(Y_test, model.forward(X_test.float())))\n",
        "    test_acc_list.append(accuracy_score(Y_test, model.predict(X_test.float())))\n",
        "    if epoch % log_interval == 0:\n",
        "        print('=' * 20, 'Epoch', epoch, '=' * 20)\n",
        "        print('Train loss:', train_loss_list[-1], 'acc:', train_acc_list[-1])\n",
        "        print('Test loss: ', test_loss_list[-1], 'acc:', test_acc_list[-1])"
      ]
    },
    {
      "cell_type": "code",
      "execution_count": null,
      "metadata": {
        "id": "ZrC0_PiyMgfW",
        "colab": {
          "base_uri": "https://localhost:8080/",
          "height": 545
        },
        "outputId": "cfbd21dc-281c-4017-e10f-8361135ee795"
      },
      "outputs": [
        {
          "output_type": "display_data",
          "data": {
            "text/plain": [
              "<Figure size 864x288 with 1 Axes>"
            ],
            "image/png": "[encoded data removed]"
          },
          "metadata": {
            "needs_background": "light"
          }
        },
        {
          "output_type": "display_data",
          "data": {
            "text/plain": [
              "<Figure size 864x288 with 1 Axes>"
            ],
            "image/png": "[encoded data removed]"
          },
          "metadata": {
            "needs_background": "light"
          }
        }
      ],
      "source": [
        "# plot loss and acc\n",
        "import matplotlib.pyplot as plt\n",
        "\n",
        "plt.figure(figsize=(12, 4))\n",
        "plt.plot(range(len(train_loss_list)), train_loss_list)\n",
        "plt.plot(range(len(test_loss_list)), test_loss_list, c='r')\n",
        "plt.legend(['train', 'test'])\n",
        "plt.title('Loss')\n",
        "plt.show()\n",
        "plt.figure(figsize=(12, 4))\n",
        "plt.plot(range(len(train_acc_list)), train_acc_list)\n",
        "plt.plot(range(len(test_acc_list)), test_acc_list, c='r')\n",
        "plt.legend(['train', 'test'])\n",
        "plt.title('Acc')\n",
        "plt.show()"
      ]
    },
    {
      "cell_type": "markdown",
      "metadata": {
        "id": "Hnuy34aKoc2f"
      },
      "source": [
        "Congratulations! We've made it."
      ]
    },
    {
      "cell_type": "markdown",
      "metadata": {
        "id": "kgIWwcZIn263"
      },
      "source": [
        "# Implement Logsitic Regression Using PyTorch nn.Module APIs"
      ]
    },
    {
      "cell_type": "markdown",
      "metadata": {
        "id": "-2fKjMvVkPWo"
      },
      "source": [
        "Now, let's use PyTorch APIs with a few lines to implement a logistic regression model."
      ]
    },
    {
      "cell_type": "code",
      "execution_count": null,
      "metadata": {
        "id": "nuzoiHyan264"
      },
      "outputs": [],
      "source": [
        "import torch\n",
        "from torch import nn\n",
        "import torch.nn.functional as F"
      ]
    },
    {
      "cell_type": "markdown",
      "metadata": {
        "id": "s6SNWep2zNmF"
      },
      "source": [
        "Let's start with the PyTorch Dataset.  \n",
        "You may notice that there are the dataset and the data_loader classes.\n",
        "The Dataset handles the whole dataset.\n",
        "The Dataloader provides batching, shuffling and many more utility functions about Dataset.  \n",
        "We will dicuss more about it later.\n",
        "\n",
        "Use `TensorDataset` and `DataLoader` from `torch.utils.data`."
      ]
    },
    {
      "cell_type": "code",
      "execution_count": null,
      "metadata": {
        "id": "Vlv-ziS2g94b"
      },
      "outputs": [],
      "source": [
        "from torch.utils.data import TensorDataset, DataLoader\n",
        "\n",
        "train_dataset = TensorDataset(X_train, Y_train.unsqueeze(dim=1).float())\n",
        "test_dataset = TensorDataset(X_test, Y_test.unsqueeze(dim=1).float())\n",
        "train_data = DataLoader(train_dataset, batch_size=128, shuffle=True)\n",
        "test_data = DataLoader(test_dataset, batch_size=128, shuffle=False)"
      ]
    },
    {
      "cell_type": "markdown",
      "metadata": {
        "id": "5COtAwHQ0p3a"
      },
      "source": [
        "PyTorch provides very convenient ways to construct a model. \n",
        "1. All models should inherit `nn.Module`.  \n",
        "2. In `__init__` method, remember to call `super().__init__()` and define the network layers.  \n",
        "3. In `forward()` method, use the defined layers to build a network model.\n",
        "\n",
        "PyTorch will use [autograd mechanic](https://pytorch.org/tutorials/beginner/blitz/autograd_tutorial.html) to generate `backward()` and get gradients **automatically**."
      ]
    },
    {
      "cell_type": "markdown",
      "metadata": {
        "id": "BnGYWc25blAF"
      },
      "source": [
        "### Define a logistic regression using nn.Module"
      ]
    },
    {
      "cell_type": "code",
      "execution_count": null,
      "metadata": {
        "id": "sk5puwUJn27F"
      },
      "outputs": [],
      "source": [
        "class TorchLogisticRegression(nn.Module):\n",
        "    def __init__(self, feature_dim):\n",
        "        '''\n",
        "        Initiate weights and bias of our model.\n",
        "\n",
        "        Arguments:\n",
        "        feature_dim -- int, How many features your data have.\n",
        "        '''\n",
        "        super().__init__()\n",
        "\n",
        "        # init the weight AND bias by nn.Linear\n",
        "        self.linear = torch.nn.Linear(feature_dim, 1, bias = True)\n",
        "\n",
        "    def forward(self, x):\n",
        "        if not isinstance(x, torch.Tensor):\n",
        "            x = torch.Tensor(x)\n",
        "\n",
        "        out = self.linear(x)\n",
        "        out = torch.sigmoid(out)\n",
        "        assert out.shape == torch.Size([x.shape[0], 1]), 'Shape of output is incorrect'\n",
        "        \n",
        "        return out"
      ]
    },
    {
      "cell_type": "markdown",
      "metadata": {
        "id": "83imqLRQ0v7M"
      },
      "source": [
        "Once the model is defined, we can proceed to define the loss (e.g., binary cross entropy) and optimizer (e.g., SGD).\n",
        "\n",
        "* [Pedefined losses](https://pytorch.org/docs/stable/nn.html)\n",
        "* [Optimizers](https://pytorch.org/docs/stable/optim.html)\n",
        "\n",
        "Also, realize the difference between nn.BCELoss and nn.BCEWithLogitsLoss."
      ]
    },
    {
      "cell_type": "markdown",
      "metadata": {
        "id": "FtOkPO6Ga0Fw"
      },
      "source": [
        "### Define loss and optimizer"
      ]
    },
    {
      "cell_type": "code",
      "execution_count": null,
      "metadata": {
        "id": "4yIRtfYan27M"
      },
      "outputs": [],
      "source": [
        "# 106 features in our income dataset\n",
        "torch_model = TorchLogisticRegression(X_train.shape[1])\n",
        "\n",
        "criterion = nn.BCELoss()\n",
        "params = torch_model.parameters() # call a method of model to get parameters\n",
        "optimizer = torch.optim.SGD(params, lr=0.03) # throw param into optimizer some_optimier(param, lr=...)"
      ]
    },
    {
      "cell_type": "markdown",
      "metadata": {
        "id": "zle9KuFcbwMP"
      },
      "source": [
        "### Train the model"
      ]
    },
    {
      "cell_type": "markdown",
      "metadata": {
        "id": "bZFxE7Y9iLfl"
      },
      "source": [
        "Let's define train function.  \n",
        "It will iterate the inputed data 1 epoch and update model with optmizer.  \n",
        "Finally, calculate mean loss and total accuracy."
      ]
    },
    {
      "cell_type": "code",
      "execution_count": null,
      "metadata": {
        "id": "VM93brDshO6E"
      },
      "outputs": [],
      "source": [
        "def train(data, model, criterion, optimizer):\n",
        "    '''\n",
        "    Argement:\n",
        "    data -- iterable data, typr torch.utils.data.Dataloader is prefer\n",
        "    model -- nn.Module, model contain forward to predict output\n",
        "    criterion -- loss function, used to evaluate goodness of model\n",
        "    optimizer -- optmizer function, method for weight updating\n",
        "    '''\n",
        "    model.train() # set model to train mode\n",
        "    \n",
        "    loss_list = []\n",
        "    total_count = 0\n",
        "    acc_count = 0\n",
        "    for x, y in data:\n",
        "        optimizer.zero_grad()\n",
        "\n",
        "        # Like the training part we implemented above, but a PyTorch version\n",
        "        # 1. use model() to get the output\n",
        "        # 2. calculate the loss using criterion(y_pred, y_true)\n",
        "        # 3. backward method of loss to calculate gradient\n",
        "        # 4. call the optimizer to update model's weights\n",
        "        out = model(x)\n",
        "        loss = criterion(out, y)\n",
        "        loss.backward()\n",
        "        optimizer.step()\n",
        "\n",
        "        total_count += out.shape[0]\n",
        "        acc_count += ((out > 0.5) == y).sum().item()\n",
        "        loss_list.append(loss.item())\n",
        "    acc = acc_count / total_count\n",
        "    loss = sum(loss_list) / len(loss_list)\n",
        "    return acc, loss"
      ]
    },
    {
      "cell_type": "markdown",
      "metadata": {
        "id": "KmDy1GTq_H2a"
      },
      "source": [
        "Next, we write the test function that works similarly as the training function but without the optmizer and weight-updating parts."
      ]
    },
    {
      "cell_type": "code",
      "execution_count": null,
      "metadata": {
        "id": "USzbBgGEoTRu"
      },
      "outputs": [],
      "source": [
        "def test(data, model, criterion):\n",
        "    model.eval()\n",
        "    \n",
        "    loss_list = []\n",
        "    total_count = 0\n",
        "    acc_count = 0\n",
        "    with torch.no_grad():\n",
        "        for x, y in data:\n",
        "            \n",
        "            # Like training part without weight updating\n",
        "            # 1. get output from model\n",
        "            # 2. calculate loss using criterion(y_pred, y_true)\n",
        "            out = model(x)\n",
        "            loss = criterion(out, y)\n",
        "\n",
        "            total_count += out.shape[0]\n",
        "            acc_count += ((out > 0.5) == y).sum().item()\n",
        "            loss_list.append(loss.item())\n",
        "\n",
        "    acc = acc_count / total_count\n",
        "    loss = sum(loss_list) / len(loss_list)\n",
        "    return acc, loss"
      ]
    },
    {
      "cell_type": "markdown",
      "metadata": {
        "id": "knXu74jCiuxP"
      },
      "source": [
        "Finally, call the train and test functions in a loop. We also record the training/test losses and accuracies during the course of training."
      ]
    },
    {
      "cell_type": "code",
      "execution_count": null,
      "metadata": {
        "id": "rcVulKkFJRtI",
        "colab": {
          "base_uri": "https://localhost:8080/"
        },
        "outputId": "5003e325-55d2-4dd3-abb8-575d6ded389f"
      },
      "outputs": [
        {
          "output_type": "stream",
          "name": "stdout",
          "text": [
            "==================== Epoch 5 ====================\n",
            "Train Acc: 0.848500 Train Loss: 0.328321\n",
            "Test Acc: 0.849825 Test Loss: 0.326181\n",
            "==================== Epoch 10 ====================\n",
            "Train Acc: 0.851417 Train Loss: 0.321595\n",
            "Test Acc: 0.850808 Test Loss: 0.321134\n",
            "==================== Epoch 15 ====================\n",
            "Train Acc: 0.851970 Train Loss: 0.319491\n",
            "Test Acc: 0.851913 Test Loss: 0.319508\n",
            "==================== Epoch 20 ====================\n",
            "Train Acc: 0.852431 Train Loss: 0.318486\n",
            "Test Acc: 0.851852 Test Loss: 0.318922\n",
            "==================== Epoch 25 ====================\n",
            "Train Acc: 0.852738 Train Loss: 0.317977\n",
            "Test Acc: 0.851729 Test Loss: 0.318603\n",
            "==================== Epoch 30 ====================\n",
            "Train Acc: 0.853168 Train Loss: 0.317480\n",
            "Test Acc: 0.852527 Test Loss: 0.318522\n",
            "==================== Epoch 35 ====================\n",
            "Train Acc: 0.852922 Train Loss: 0.317297\n",
            "Test Acc: 0.852220 Test Loss: 0.318444\n",
            "==================== Epoch 40 ====================\n",
            "Train Acc: 0.853137 Train Loss: 0.316989\n",
            "Test Acc: 0.852650 Test Loss: 0.318259\n",
            "==================== Epoch 45 ====================\n",
            "Train Acc: 0.853076 Train Loss: 0.316960\n",
            "Test Acc: 0.852036 Test Loss: 0.318413\n",
            "==================== Epoch 50 ====================\n",
            "Train Acc: 0.852615 Train Loss: 0.317000\n",
            "Test Acc: 0.852282 Test Loss: 0.318310\n"
          ]
        }
      ],
      "source": [
        "# Hyper Parameters\n",
        "max_epochs = 50\n",
        "log_interval = 5\n",
        "\n",
        "train_acc_list = []\n",
        "train_loss_list = []\n",
        "test_acc_list = []\n",
        "test_loss_list = []\n",
        "\n",
        "for epoch in range(1, max_epochs + 1):\n",
        "    train_acc, train_loss = train(train_data, torch_model, criterion, optimizer)\n",
        "    test_acc, test_loss = test(test_data, torch_model, criterion)\n",
        "\n",
        "    train_acc_list.append(train_acc)\n",
        "    train_loss_list.append(train_loss)\n",
        "    test_acc_list.append(test_acc)\n",
        "    test_loss_list.append(test_loss)\n",
        "    if epoch % log_interval == 0:\n",
        "        print('=' * 20, 'Epoch', epoch, '=' * 20)\n",
        "        print('Train Acc: {:.6f} Train Loss: {:.6f}'.format(train_acc, train_loss))\n",
        "        print('Test Acc: {:.6f} Test Loss: {:.6f}'.format(test_acc, test_loss))"
      ]
    },
    {
      "cell_type": "code",
      "execution_count": null,
      "metadata": {
        "id": "4ifzgfp7iq2m",
        "colab": {
          "base_uri": "https://localhost:8080/",
          "height": 545
        },
        "outputId": "a974d787-34be-4124-972f-be2b7a10ce1e"
      },
      "outputs": [
        {
          "output_type": "display_data",
          "data": {
            "text/plain": [
              "<Figure size 864x288 with 1 Axes>"
            ],
            "image/png": "[encoded data removed]"
          },
          "metadata": {
            "needs_background": "light"
          }
        },
        {
          "output_type": "display_data",
          "data": {
            "text/plain": [
              "<Figure size 864x288 with 1 Axes>"
            ],
            "image/png": "[encoded data removed]"
          },
          "metadata": {
            "needs_background": "light"
          }
        }
      ],
      "source": [
        "import matplotlib.pyplot as plt\n",
        "\n",
        "plt.figure(figsize=(12, 4))\n",
        "plt.plot(range(len(train_loss_list)), train_loss_list)\n",
        "plt.plot(range(len(test_loss_list)), test_loss_list, c='r')\n",
        "plt.legend(['train', 'test'])\n",
        "plt.title('Loss')\n",
        "plt.show()\n",
        "plt.figure(figsize=(12, 4))\n",
        "plt.plot(range(len(train_acc_list)), train_acc_list)\n",
        "plt.plot(range(len(test_acc_list)), test_acc_list, c='r')\n",
        "plt.legend(['train', 'test'])\n",
        "plt.title('Acc')\n",
        "plt.show()"
      ]
    },
    {
      "cell_type": "code",
      "execution_count": null,
      "metadata": {
        "id": "_wX87wzXhmYg",
        "colab": {
          "base_uri": "https://localhost:8080/"
        },
        "outputId": "d7a608c2-dee9-4fb3-d98c-19b0e41993eb"
      },
      "outputs": [
        {
          "output_type": "stream",
          "name": "stdout",
          "text": [
            "-------------------- weight --------------------\n",
            "Ours tensor([ 3.4683e-01,  7.3067e-02,  4.0361e-01,  2.3321e+00,  2.5894e-01,\n",
            "         3.6157e-01,  1.1782e-01, -1.1673e-03, -4.7900e-02,  6.4168e-02,\n",
            "         3.5388e-02, -1.1038e-01, -3.9536e-02, -1.0448e-01, -6.6580e-02,\n",
            "        -1.8558e-01, -1.9176e-01, -7.3840e-02, -1.2294e-01, -1.3480e-01])\n",
            "PyTorch tensor([ 0.3487,  0.0744,  0.3992,  2.1798,  0.2582,  0.3644,  0.0914, -0.0255,\n",
            "        -0.0562,  0.0373,  0.0422, -0.1076, -0.0489, -0.0904, -0.0893, -0.1842,\n",
            "        -0.1887, -0.0704, -0.1157, -0.1349], grad_fn=<SliceBackward0>)\n",
            "-------------------- bias --------------------\n",
            "Ours tensor(-2.0818)\n",
            "PyTorch Parameter containing:\n",
            "tensor([-2.0809], requires_grad=True)\n"
          ]
        }
      ],
      "source": [
        "# Comparison of our model and torch's model\n",
        "print('-' * 20, 'weight' , '-' * 20)\n",
        "print('Ours', model.w[:20])\n",
        "print('PyTorch', torch_model.linear.weight[0][:20])\n",
        "print('-' * 20, 'bias' , '-' * 20)\n",
        "print('Ours', model.b)\n",
        "print('PyTorch', torch_model.linear.bias)"
      ]
    },
    {
      "cell_type": "markdown",
      "metadata": {
        "id": "4XTB6EF6mH2Q"
      },
      "source": [
        "Our own implementation and the implementation using the PyTorch APIs obtain similar weights and biases.  \n",
        "But less effort is needed when using PyTorch APIs!  "
      ]
    },
    {
      "cell_type": "markdown",
      "metadata": {
        "id": "RwyM5zx-PIzB"
      },
      "source": [
        "# Part 3: Build a MLP (Multiple Layer Perceptron) using PyTorch"
      ]
    },
    {
      "cell_type": "markdown",
      "metadata": {
        "id": "o1zou7prPIzC"
      },
      "source": [
        "We could replace the linear layer in the previous model with a MLP.\n",
        "Increasing the number of layers will give the model with a greater capacity.  \n",
        "\n",
        "The steps to build a MLP are similar to the above and some of the functions can be re-used.  \n",
        "\n",
        "1. (reuse) Prepare the dataset\n",
        "2. Build the model\n",
        "3. Define Optimizer and Loss\n",
        "4. (reuse) Define Train and Test Function\n",
        "5. Run Training Loop"
      ]
    },
    {
      "cell_type": "markdown",
      "metadata": {
        "id": "_Q7N2ETlyhoU"
      },
      "source": [
        "**Step 2: Build the model**\n",
        "\n",
        "**Make a network with depths >=2.**\n",
        " \n",
        "Should be able to achieve a better accuracy by trying\n",
        "- Different activation functions\n",
        "- More layers\n",
        "- Add some Normalization or Tricks (dropout, BatchNorm)  "
      ]
    },
    {
      "cell_type": "code",
      "execution_count": null,
      "metadata": {
        "id": "GKNxKM8JPIzC"
      },
      "outputs": [],
      "source": [
        "# Step 2: re-define a model\n",
        "class TorchMLP(nn.Module):\n",
        "    def __init__(self, feature_dim):\n",
        "        '''\n",
        "        Initiate weights and bias of our model.\n",
        "\n",
        "        Arguments:\n",
        "        feature_dim -- int, How many features your data have.\n",
        "        '''\n",
        "        super().__init__()\n",
        "\n",
        "        # init the weight AND bias by nn.Linear\n",
        "        self.linear = nn.Sequential(\n",
        "            nn.Linear(feature_dim, 20),\n",
        "            nn.ReLU(),\n",
        "            nn.Linear(20, 14),\n",
        "            nn.ReLU(),\n",
        "            nn.Linear(14, 8),\n",
        "            nn.ReLU(),\n",
        "            nn.Linear(8,1)\n",
        "        )\n",
        "        # self.linear1 = torch.nn.Linear(feature_dim, 18, bias = True)\n",
        "        # self.linear2 = torch.nn.Linear(18, 12, bias = True)\n",
        "        # self.linear3 = torch.nn.Linear(12, 1, bias = True)\n",
        "    \n",
        "    def forward(self, x):\n",
        "        if not isinstance(x, torch.Tensor):\n",
        "            x = torch.Tensor(x)\n",
        "    \n",
        "        out = self.linear(x)\n",
        "        out = torch.sigmoid(out)\n",
        "        assert out.shape == torch.Size([x.shape[0], 1]), 'Shape of output is incorrect'\n",
        "\n",
        "        return out"
      ]
    },
    {
      "cell_type": "markdown",
      "metadata": {
        "id": "NOMfqpOJPIzD"
      },
      "source": [
        "**Step 3: Define Optimizer and Loss**  \n",
        "\n",
        "This part is same as above."
      ]
    },
    {
      "cell_type": "code",
      "execution_count": null,
      "metadata": {
        "id": "Rqe7JB2vPIzD"
      },
      "outputs": [],
      "source": [
        "# Step 3: Define Optimizer and Loss\n",
        "mlp_model = TorchMLP(X_train.shape[1])\n",
        "\n",
        "criterion = nn.BCELoss()\n",
        "params = mlp_model.parameters() # call a method of model to get parameters\n",
        "optimizer = torch.optim.SGD(params, lr=0.06) # throw param into optimizer some_optimier(param, lr=...)"
      ]
    },
    {
      "cell_type": "markdown",
      "metadata": {
        "id": "Xke9cNWmPIzE"
      },
      "source": [
        "<!-- ## Normal Logistic\n",
        "Train Acc: 0.853321 Train Loss: 0.316691\n",
        "Test Acc: 0.852282 Test Loss: 0.318421\n",
        " -->"
      ]
    },
    {
      "cell_type": "code",
      "execution_count": null,
      "metadata": {
        "id": "0dZY89BePIzE",
        "colab": {
          "base_uri": "https://localhost:8080/"
        },
        "outputId": "b4a78c8a-99d6-421d-9e2e-97bde0cefc39"
      },
      "outputs": [
        {
          "output_type": "stream",
          "name": "stdout",
          "text": [
            "==================== Epoch 3 ====================\n",
            "Train Acc: 0.804889 Train Loss: 0.422205\n",
            "Test Acc: 0.843867 Test Loss: 0.345806\n",
            "==================== Epoch 6 ====================\n",
            "Train Acc: 0.850680 Train Loss: 0.316723\n",
            "Test Acc: 0.852896 Test Loss: 0.317275\n",
            "==================== Epoch 9 ====================\n",
            "Train Acc: 0.856515 Train Loss: 0.308149\n",
            "Test Acc: 0.850501 Test Loss: 0.317360\n",
            "==================== Epoch 12 ====================\n",
            "Train Acc: 0.858481 Train Loss: 0.303159\n",
            "Test Acc: 0.853817 Test Loss: 0.314598\n",
            "==================== Epoch 15 ====================\n",
            "Train Acc: 0.860139 Train Loss: 0.299440\n",
            "Test Acc: 0.851668 Test Loss: 0.316263\n",
            "==================== Epoch 18 ====================\n",
            "Train Acc: 0.861337 Train Loss: 0.297138\n",
            "Test Acc: 0.850316 Test Loss: 0.319357\n",
            "==================== Epoch 21 ====================\n",
            "Train Acc: 0.861122 Train Loss: 0.295595\n",
            "Test Acc: 0.853387 Test Loss: 0.316443\n",
            "==================== Epoch 24 ====================\n",
            "Train Acc: 0.862259 Train Loss: 0.294163\n",
            "Test Acc: 0.854002 Test Loss: 0.316769\n",
            "==================== Epoch 27 ====================\n",
            "Train Acc: 0.862781 Train Loss: 0.292111\n",
            "Test Acc: 0.851176 Test Loss: 0.320134\n",
            "==================== Epoch 30 ====================\n",
            "Train Acc: 0.864378 Train Loss: 0.291446\n",
            "Test Acc: 0.851176 Test Loss: 0.317848\n"
          ]
        }
      ],
      "source": [
        "# Step 5: Training Loop\n",
        "max_epochs = 30\n",
        "log_interval = 3\n",
        "\n",
        "train_acc_list = []\n",
        "train_loss_list = []\n",
        "test_acc_list = []\n",
        "test_loss_list = []\n",
        "\n",
        "for epoch in range(1, max_epochs + 1):\n",
        "    train_acc, train_loss = train(train_data, mlp_model, criterion, optimizer)\n",
        "    test_acc, test_loss = test(test_data, mlp_model, criterion)\n",
        "\n",
        "    train_acc_list.append(train_acc)\n",
        "    train_loss_list.append(train_loss)\n",
        "    test_acc_list.append(test_acc)\n",
        "    test_loss_list.append(test_loss)\n",
        "    if epoch % log_interval == 0:\n",
        "        print('=' * 20, 'Epoch', epoch, '=' * 20)\n",
        "        print('Train Acc: {:.6f} Train Loss: {:.6f}'.format(train_acc, train_loss))\n",
        "        print('Test Acc: {:.6f} Test Loss: {:.6f}'.format(test_acc, test_loss))"
      ]
    },
    {
      "cell_type": "code",
      "execution_count": null,
      "metadata": {
        "id": "90-ynV8gPIzF",
        "colab": {
          "base_uri": "https://localhost:8080/",
          "height": 545
        },
        "outputId": "ed05a52b-79cb-4baf-d85f-fd8936badbdd"
      },
      "outputs": [
        {
          "output_type": "display_data",
          "data": {
            "text/plain": [
              "<Figure size 864x288 with 1 Axes>"
            ],
            "image/png": "[encoded data removed]"
          },
          "metadata": {
            "needs_background": "light"
          }
        },
        {
          "output_type": "display_data",
          "data": {
            "text/plain": [
              "<Figure size 864x288 with 1 Axes>"
            ],
            "image/png": "[encoded data removed]"
          },
          "metadata": {
            "needs_background": "light"
          }
        }
      ],
      "source": [
        "import matplotlib.pyplot as plt\n",
        "\n",
        "plt.figure(figsize=(12, 4))\n",
        "plt.plot(range(len(train_loss_list)), train_loss_list)\n",
        "plt.plot(range(len(test_loss_list)), test_loss_list, c='r')\n",
        "plt.legend(['train', 'test'])\n",
        "plt.title('Loss')\n",
        "plt.show()\n",
        "plt.figure(figsize=(12, 4))\n",
        "plt.plot(range(len(train_acc_list)), train_acc_list)\n",
        "plt.plot(range(len(test_acc_list)), test_acc_list, c='r')\n",
        "plt.legend(['train', 'test'])\n",
        "plt.title('Acc')\n",
        "plt.show()"
      ]
    }
  ],
  "metadata": {
    "colab": {
      "provenance": []
    },
    "kernelspec": {
      "display_name": "Python 3.8.13 ('pytorch')",
      "language": "python",
      "name": "python3"
    },
    "language_info": {
      "codemirror_mode": {
        "name": "ipython",
        "version": 3
      },
      "file_extension": ".py",
      "mimetype": "text/x-python",
      "name": "python",
      "nbconvert_exporter": "python",
      "pygments_lexer": "ipython3",
      "version": "3.8.13"
    },
    "vscode": {
      "interpreter": {
        "hash": "aaa478f9632825e83f6a2247407c7a2930de96a6810af7910643e423346524f9"
      }
    }
  },
  "nbformat": 4,
  "nbformat_minor": 0
}